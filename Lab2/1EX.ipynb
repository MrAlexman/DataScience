{
 "cells": [
  {
   "cell_type": "code",
   "execution_count": null,
   "metadata": {
    "collapsed": true,
    "pycharm": {
     "name": "#%%\n"
    }
   },
   "outputs": [],
   "source": [
    "class Employee():\n",
    "    def __init__(self, name, salary):\n",
    "        \"\"\"\n",
    "        :param name: str\n",
    "        :param salary: int\n",
    "        \"\"\"\n",
    "        self.name = name\n",
    "        self.salary = salary\n",
    "\n",
    "    def up(self):\n",
    "        \"\"\"\n",
    "        Raises the salary by 100\n",
    "        \"\"\"\n",
    "        self.salary += 100\n",
    "\n",
    "    def print(self):\n",
    "        \"\"\"\n",
    "        Prints \"Employee 'Name', salary 'Salary'\"\n",
    "        \"\"\"\n",
    "        print(f\"Employee {self.name}, salary {self.salary}\")"
   ]
  },
  {
   "cell_type": "code",
   "execution_count": null,
   "outputs": [],
   "source": [
    "Vasilii = Employee(\"Vasilii Ivanovich\", 4000)\n",
    "Vasilii.up()\n",
    "Vasilii.print()"
   ],
   "metadata": {
    "collapsed": false,
    "pycharm": {
     "name": "#%%\n"
    }
   }
  }
 ],
 "metadata": {
  "kernelspec": {
   "display_name": "Python 3",
   "language": "python",
   "name": "python3"
  },
  "language_info": {
   "codemirror_mode": {
    "name": "ipython",
    "version": 2
   },
   "file_extension": ".py",
   "mimetype": "text/x-python",
   "name": "python",
   "nbconvert_exporter": "python",
   "pygments_lexer": "ipython2",
   "version": "2.7.6"
  }
 },
 "nbformat": 4,
 "nbformat_minor": 0
}