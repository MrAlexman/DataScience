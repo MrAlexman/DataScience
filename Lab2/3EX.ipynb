{
 "cells": [
  {
   "cell_type": "code",
   "execution_count": 16,
   "outputs": [],
   "source": [
    "def person(documents, search_number):\n",
    "    \"\"\"\n",
    "    Returns name of document owner\n",
    "    :param documents: list[dict]\n",
    "    :param number: str\n",
    "    :return: str\n",
    "    \"\"\"\n",
    "    for document in documents:\n",
    "        if document[\"number\"] == search_number:\n",
    "            return document['name']\n",
    "    return False"
   ],
   "metadata": {
    "collapsed": false,
    "pycharm": {
     "name": "#%%\n"
    }
   }
  },
  {
   "cell_type": "code",
   "execution_count": 17,
   "outputs": [],
   "source": [
    "def shelf(directories, search_number):\n",
    "    \"\"\"\n",
    "    Returns number of shield\n",
    "    :param directories: dict\n",
    "    :param search_number: str\n",
    "    :return: str\n",
    "    \"\"\"\n",
    "    for key in directories.keys():\n",
    "        for i in directories[key]:\n",
    "            if i == search_number:\n",
    "                return key\n",
    "    return False"
   ],
   "metadata": {
    "collapsed": false,
    "pycharm": {
     "name": "#%%\n"
    }
   }
  },
  {
   "cell_type": "code",
   "execution_count": 18,
   "outputs": [],
   "source": [
    "def info(documents, directories):\n",
    "    \"\"\"\n",
    "    Returns complemented box of documents. Depends on function 'shelf'\n",
    "    :param documents: list[dict]\n",
    "    :param directories: dict\n",
    "    :return list[dict]\n",
    "    \"\"\"\n",
    "    for i in documents:\n",
    "        i['shelf'] = shelf(directories, i['number'])\n",
    "    return documents"
   ],
   "metadata": {
    "collapsed": false,
    "pycharm": {
     "name": "#%%\n"
    }
   }
  },
  {
   "cell_type": "code",
   "execution_count": 19,
   "outputs": [],
   "source": [
    "def add(directories, shelf_number):\n",
    "    \"\"\"\n",
    "    Adds new dictionary element, returns result in boolean\n",
    "    :param directories: dict\n",
    "    :param shelf_number: str\n",
    "    :return: boolean\n",
    "    \"\"\"\n",
    "    if shelf_number not in list(directories.keys()):\n",
    "        directories[shelf_number] = []\n",
    "        print(f\"A shelf has been added. The current list of shelves: {', '.join(directories.keys())}\")\n",
    "        return True\n",
    "    else:\n",
    "        print(f\"A shelf with this number already exists. The current list of shelves: {', '.join(directories.keys())}\")\n",
    "        return False"
   ],
   "metadata": {
    "collapsed": false,
    "pycharm": {
     "name": "#%%\n"
    }
   }
  },
  {
   "cell_type": "code",
   "execution_count": 20,
   "outputs": [],
   "source": [
    "def ds(directories, shelf_number):\n",
    "    \"\"\"\n",
    "    Deletes chosen shelf. Returns result in boolean\n",
    "    :param directories: dict\n",
    "    :param shelf_number: str\n",
    "    :return: boolean\n",
    "    \"\"\"\n",
    "    if shelf_number in directories.keys():\n",
    "        if len(directories[shelf_number]) == 0:\n",
    "            directories.pop(shelf_number)\n",
    "            print(f\"shelf was deleted. Current list of shelfs: {', '.join(directories.keys())}\")\n",
    "            return True\n",
    "        else:\n",
    "            print(f\"There`s documents on shelf. Please delete them at first. \"\n",
    "                  f\"Current list of shelfs:  {', '.join(directories.keys())}\")\n",
    "            return False\n",
    "    else:\n",
    "        print(f\"shelf wasn`t found in base. Current list of shelfs: {', '.join(directories.keys())}\")\n",
    "        return None"
   ],
   "metadata": {
    "collapsed": false,
    "pycharm": {
     "name": "#%%\n"
    }
   }
  },
  {
   "cell_type": "code",
   "execution_count": 21,
   "outputs": [],
   "source": [
    "documents = [\n",
    "    {\"type\": \"passport\", \"number\": \"2207 876234\", \"name\": \"Василий Гупкин\"},\n",
    "    {\"type\": \"invoice\", \"number\": \"11-2\", \"name\": \"Геннадий Покемонов\"},\n",
    "    {\"type\": \"insurance\", \"number\": \"10006\", \"name\": \"Аристарх Павлов\"}\n",
    "]\n",
    "directories = {\n",
    "    \"1\": [\"2207 876234\", \"11-2\"],\n",
    "    \"2\": [\"10006\"],\n",
    "    \"3\": []\n",
    "}"
   ],
   "metadata": {
    "collapsed": false,
    "pycharm": {
     "name": "#%%\n"
    }
   }
  },
  {
   "cell_type": "code",
   "execution_count": 23,
   "outputs": [
    {
     "name": "stdout",
     "output_type": "stream",
     "text": [
      "You`re in workspace:\n",
      "Please Enter one of command (Num/Name):\n",
      "0) 'q'   - Quit execution.\n",
      "1) 'p'   - Name of document owner.\n",
      "2) 's'   - Number of document shelf.\n",
      "3) 'l'   - Full data.\n",
      "4) 'ads' - Adds new shelf.\n",
      "5) 'ds'  - Deletes chosen shelf, if it`s empty.\n",
      "Incorrect input.\n",
      "Incorrect input.\n",
      "Good luck!\n"
     ]
    }
   ],
   "source": [
    "from IPython.display import clear_output\n",
    "while True:\n",
    "    print(\"You`re in workspace:\\n\"\n",
    "          \"Please Enter one of command (Num/Name):\\n\"\n",
    "          \"0) 'q'   - Quit execution.\\n\"\n",
    "          \"1) 'p'   - Name of document owner.\\n\"\n",
    "          \"2) 's'   - Number of document shelf.\\n\"\n",
    "          \"3) 'l'   - Full data.\\n\"\n",
    "          \"4) 'ads' - Adds new shelf.\\n\"\n",
    "          \"5) 'ds'  - Deletes chosen shelf, if it`s empty.\")\n",
    "\n",
    "    commandline = ['0', '1', '2', '3', '4', '5', 'q', 'p', 's', 'l', 'ads', 'ds']\n",
    "    command = None\n",
    "    while True:\n",
    "        command = input()\n",
    "        if command in commandline:\n",
    "            break\n",
    "        else:\n",
    "            print(\"Incorrect input.\")\n",
    "    if command in ['p', '1', 's', '2']:\n",
    "        search_number = input(\"Enter document number: \")\n",
    "\n",
    "        if command in ['s', '2']:\n",
    "            result = shelf(directories, search_number)\n",
    "            if result:\n",
    "                print(f\"The document is stored on the shelf: {result}\")\n",
    "            else:\n",
    "                print(\"Document wasn`t found in base\")\n",
    "        else:\n",
    "            result = person(documents, search_number)\n",
    "            if result:\n",
    "                print(f\"Document owner: {result}\")\n",
    "            else:\n",
    "                print(\"Document wasn`t found in base\")\n",
    "\n",
    "    elif command in ['l', '3']:\n",
    "        result = info(documents, directories)\n",
    "        for i in result:\n",
    "            print(f\"| №: {i['number']:15}| type: {i['type']:15}|\"\n",
    "                  f\" owner: {i['name']:20}| shelf: {i['shelf']}\")\n",
    "\n",
    "    elif command in ['ads', '4', 'ds', '5']:\n",
    "        shelf_number = input(\"Enter shelf number: \")\n",
    "        if command in ['ds', '5']:\n",
    "            ds(directories, shelf_number)\n",
    "        else:\n",
    "            add(directories, shelf_number)\n",
    "    elif command in ['0', 'q']:\n",
    "        print(\"Good luck!\")\n",
    "        break\n",
    "    input()"
   ],
   "metadata": {
    "collapsed": false,
    "pycharm": {
     "name": "#%%\n"
    }
   }
  },
  {
   "cell_type": "code",
   "execution_count": 22,
   "outputs": [],
   "source": [],
   "metadata": {
    "collapsed": false,
    "pycharm": {
     "name": "#%%\n"
    }
   }
  }
 ],
 "metadata": {
  "kernelspec": {
   "display_name": "Python 3",
   "language": "python",
   "name": "python3"
  },
  "language_info": {
   "codemirror_mode": {
    "name": "ipython",
    "version": 2
   },
   "file_extension": ".py",
   "mimetype": "text/x-python",
   "name": "python",
   "nbconvert_exporter": "python",
   "pygments_lexer": "ipython2",
   "version": "2.7.6"
  }
 },
 "nbformat": 4,
 "nbformat_minor": 0
}